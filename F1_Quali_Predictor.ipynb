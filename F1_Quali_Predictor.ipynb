{
 "cells": [
  {
   "cell_type": "markdown",
   "id": "fa8a8269-ec86-4b79-b6fe-50a51710a780",
   "metadata": {},
   "source": [
    "### 🏎️ Project Overview: F1 Qualifying Time Prediction using Historical Data and Performance Factors\n",
    "\n",
    "This project aims to **predict Formula 1 qualifying (Q3) lap times for the 2025 season** by combining historical race data and team/driver performance multipliers. It uses data from the 2024 and 2025 seasons, fetched via the `FastF1` API. For each 2025 race round, the model predicts lap times for all current drivers based on:\n",
    "\n",
    "- **The best Q3 time from the corresponding round in 2024** (serving as a base reference),\n",
    "- **Team and driver performance factors** (reflecting relative pace differences),\n",
    "- And **random variation** to simulate real-world fluctuations.\n",
    "\n",
    "Additionally, the model is trained using 2025 qualifying data (Rounds 1–4) to estimate relationships between Q1, Q2, and Q3 lap times using a linear regression model. The final output ranks drivers per round by their predicted Q3 times, allowing for comparative performance insights across teams and drivers throughout the upcoming season."
   ]
  },
  {
   "cell_type": "markdown",
   "id": "432b96d3-3188-421b-9c48-c7ba4a481b6c",
   "metadata": {},
   "source": [
    "## Import Libraries and Set Up Logging"
   ]
  },
  {
   "cell_type": "code",
   "execution_count": null,
   "id": "30b0c552-3a8d-41d0-a22c-93cc61d74ada",
   "metadata": {},
   "outputs": [],
   "source": [
    "import fastf1\n",
    "import pandas as pd\n",
    "import numpy as np\n",
    "from sklearn.linear_model import LinearRegression\n",
    "from sklearn.impute import SimpleImputer\n",
    "from sklearn.metrics import mean_absolute_error, r2_score\n",
    "import logging\n",
    "import warnings\n",
    "\n",
    "# Set logging for fastf1 to suppress info messages\n",
    "logging.getLogger('fastf1').setLevel(logging.WARNING)\n",
    "logging.getLogger('fastf1').disabled = True\n",
    "\n",
    "# Suppress warnings\n",
    "warnings.filterwarnings(\"ignore\")"
   ]
  },
  {
   "cell_type": "markdown",
   "id": "0fe3288f-237f-4cb8-9bae-63e159ea6ea4",
   "metadata": {},
   "source": [
    "## Fetch Qualifying Session Data"
   ]
  },
  {
   "cell_type": "code",
   "execution_count": null,
   "id": "f83dcd85-352c-4e1a-9e68-876051aff7be",
   "metadata": {},
   "outputs": [],
   "source": [
    "# Fetch qualifying session data\n",
    "def fetch_f1_data(year, round_number):\n",
    "    try:\n",
    "        session = fastf1.get_session(year, round_number, 'Q')\n",
    "        session.load()\n",
    "        results = session.results[['DriverNumber', 'FullName', 'TeamName', 'Q1', 'Q2', 'Q3']]\n",
    "        results = results.rename(columns={'FullName': 'Driver'})\n",
    "        for col in ['Q1', 'Q2', 'Q3']:\n",
    "            results[col + '_sec'] = results[col].apply(\n",
    "                lambda x: x.total_seconds() if pd.notnull(x) else None\n",
    "            )\n",
    "        results['Round'] = round_number\n",
    "        results['Year'] = year\n",
    "        return results\n",
    "    except Exception as e:\n",
    "        print(f\"Could not load data for Round {round_number}: {e}\")\n",
    "        return None"
   ]
  },
  {
   "cell_type": "markdown",
   "id": "e684bf9a-da6c-4f38-8ef2-f908dca4dae5",
   "metadata": {},
   "source": [
    "## Fetch Multiple Rounds Data (for 2025)"
   ]
  },
  {
   "cell_type": "code",
   "execution_count": null,
   "id": "4a54a30b-13e1-428e-8535-f5c40ba228c3",
   "metadata": {},
   "outputs": [],
   "source": [
    "# Fetch multiple rounds (for 2025)\n",
    "def fetch_all_2025_data():\n",
    "    all_data = []\n",
    "    for rnd in range(1, 5):  # Rounds 1 to 24 for 2025\n",
    "        print(f\"Fetching Round {rnd} for 2025...\")\n",
    "        data = fetch_f1_data(2025, rnd)\n",
    "        if data is not None:\n",
    "            all_data.append(data)\n",
    "    return pd.concat(all_data, ignore_index=True) if all_data else pd.DataFrame()"
   ]
  },
  {
   "cell_type": "markdown",
   "id": "ded2f582-f989-4d86-b0a1-14538fe02b45",
   "metadata": {},
   "source": [
    "## Fetch Multiple Rounds Data (for 2024)"
   ]
  },
  {
   "cell_type": "code",
   "execution_count": null,
   "id": "e5f6796d-109d-4609-b4c8-693e2c30e99a",
   "metadata": {},
   "outputs": [],
   "source": [
    "# Fetch multiple rounds (for 2024)\n",
    "def fetch_all_2024_data():\n",
    "    all_data = []\n",
    "    for rnd in range(1, 25):  # Rounds 1 to 24 for 2024\n",
    "        print(f\"Fetching Round {rnd} for 2024...\")\n",
    "        data = fetch_f1_data(2024, rnd)\n",
    "        if data is not None:\n",
    "            all_data.append(data)\n",
    "    return pd.concat(all_data, ignore_index=True) if all_data else pd.DataFrame()"
   ]
  },
  {
   "cell_type": "markdown",
   "id": "78239d87-83ae-43e8-85ed-4769826eae80",
   "metadata": {},
   "source": [
    "## Get the Best Q3 Time for Each Round in 2024"
   ]
  },
  {
   "cell_type": "code",
   "execution_count": null,
   "id": "81fc2992-388b-489f-a813-70469242b5b7",
   "metadata": {},
   "outputs": [],
   "source": [
    "# Get the best Q3 time for each round in 2024\n",
    "def get_best_q3_times_2024():\n",
    "    all_data = fetch_all_2024_data()\n",
    "    best_times = []\n",
    "    \n",
    "    for rnd in range(1, 25):  # Rounds 1 to 24\n",
    "        round_data = all_data[all_data['Round'] == rnd]\n",
    "        if not round_data.empty:\n",
    "            best_q3_time = round_data['Q3_sec'].min()\n",
    "            best_times.append({'Round': rnd, 'Best_Q3_time_sec': best_q3_time})\n",
    "    \n",
    "    return pd.DataFrame(best_times)"
   ]
  },
  {
   "cell_type": "markdown",
   "id": "2778a478-c153-4e14-8316-570ae27a4bfd",
   "metadata": {},
   "source": [
    "## Apply Performance Multipliers"
   ]
  },
  {
   "cell_type": "code",
   "execution_count": null,
   "id": "99b76fc2-57e0-4e5e-b427-b6c891459a10",
   "metadata": {},
   "outputs": [],
   "source": [
    "# Apply performance multipliers\n",
    "def apply_performance_factors(predictions_df, base_times):\n",
    "    team_factors = {\n",
    "        'Red Bull Racing': 0.997,\n",
    "        'Ferrari': 0.998,\n",
    "        'McLaren': 0.995,\n",
    "        'Mercedes': 0.998,\n",
    "        'Aston Martin': 1.001,\n",
    "        'RB': 1.002,\n",
    "        'Williams': 1.003,\n",
    "        'Haas F1 Team': 1.004,\n",
    "        'Kick Sauber': 1.004,\n",
    "        'Alpine': 1.005,\n",
    "    }\n",
    "\n",
    "    driver_factors = {\n",
    "        'Max Verstappen': 0.998,\n",
    "        'Lando Norris': 0.999,\n",
    "        'Oscar Piastri': 0.999,\n",
    "        'Charles Leclerc': 1.000,\n",
    "        'Lewis Hamilton': 1.000,\n",
    "        'Yuki Tsunoda': 1.001,\n",
    "        'Kimi Antonelli': 1.001,\n",
    "        'George Russell': 1.000,\n",
    "        'Fernando Alonso': 1.001,\n",
    "        'Lance Stroll': 1.003,\n",
    "        'Isack Hadjar': 1.003,\n",
    "        'Liam Lawson': 1.004,\n",
    "        'Alexander Albon': 1.003,\n",
    "        'Carlos Sainz': 1.002,\n",
    "        'Nico Hulkenberg': 1.002,\n",
    "        'Gabriel Bortoleto': 1.004,\n",
    "        'Oliver Bearman': 1.004,\n",
    "        'Esteban Ocon': 1.003,\n",
    "        'Pierre Gasly': 1.003,\n",
    "        'Jack Doohan': 1.004\n",
    "    }\n",
    "\n",
    "    # Map the base times for each round\n",
    "    predictions_df = predictions_df.merge(base_times[['Round', 'Best_Q3_time_sec']], on='Round', how='left')\n",
    "\n",
    "    for idx, row in predictions_df.iterrows():\n",
    "        tf = team_factors.get(row['Team'], 1.005)\n",
    "        df = driver_factors.get(row['Driver'], 1.002)\n",
    "        predictions_df.loc[idx, 'Predicted_Q3'] = row['Best_Q3_time_sec'] * tf * df + np.random.uniform(-0.1, 0.1)\n",
    "\n",
    "    return predictions_df"
   ]
  },
  {
   "cell_type": "markdown",
   "id": "074c883b-45c1-4a94-ad78-6144dc39bca1",
   "metadata": {},
   "source": [
    "## Converting Seconds into Minutes"
   ]
  },
  {
   "cell_type": "code",
   "execution_count": null,
   "id": "b5613dc5-a9d2-4ce6-b8d3-3b07ab02a5b5",
   "metadata": {},
   "outputs": [],
   "source": [
    "# Convert seconds to minutes:seconds\n",
    "def convert_seconds_to_minutes(seconds):\n",
    "    minutes = int(seconds // 60)\n",
    "    seconds = seconds % 60\n",
    "    return f\"{minutes:02}:{seconds:05.2f}\""
   ]
  },
  {
   "cell_type": "markdown",
   "id": "98cec247-a596-420c-aa6a-c9f50b7293f3",
   "metadata": {},
   "source": [
    "## Predict for All 24 Rounds in 2025"
   ]
  },
  {
   "cell_type": "code",
   "execution_count": null,
   "id": "d31bb866-355d-4976-a344-6f38d4ff0b84",
   "metadata": {},
   "outputs": [],
   "source": [
    "# Predict for all 24 rounds\n",
    "def predict_all_rounds(model, base_times):\n",
    "    driver_teams = {\n",
    "        'Max Verstappen': 'Red Bull Racing',\n",
    "        'Yuki Tsunoda': 'Red Bull Racing',\n",
    "        'Charles Leclerc': 'Ferrari',\n",
    "        'Lewis Hamilton': 'Ferrari',\n",
    "        'Kimi Antonelli': 'Mercedes',\n",
    "        'George Russell': 'Mercedes',\n",
    "        'Lando Norris': 'McLaren',\n",
    "        'Oscar Piastri': 'McLaren',\n",
    "        'Fernando Alonso': 'Aston Martin',\n",
    "        'Lance Stroll': 'Aston Martin',\n",
    "        'Isack Hadjar': 'RB',\n",
    "        'Liam Lawson': 'RB',\n",
    "        'Alexander Albon': 'Williams',\n",
    "        'Carlos Sainz': 'Williams',\n",
    "        'Nico Hulkenberg': 'Kick Sauber',\n",
    "        'Gabriel Bortoleto': 'Kick Sauber',\n",
    "        'Oliver Bearman': 'Haas F1 Team',\n",
    "        'Esteban Ocon': 'Haas F1 Team',\n",
    "        'Pierre Gasly': 'Alpine',\n",
    "        'Jack Doohan': 'Alpine'\n",
    "    }\n",
    "\n",
    "    for rnd in range(1, 25):\n",
    "        print(f\"\\nPredictions for Round {rnd} - 2025:\")\n",
    "        predictions_df = pd.DataFrame(driver_teams.items(), columns=['Driver', 'Team'])\n",
    "        predictions_df['Round'] = rnd\n",
    "        predictions_df = apply_performance_factors(predictions_df, base_times)\n",
    "        predictions_df = predictions_df.sort_values('Predicted_Q3')\n",
    "\n",
    "        print(\"=\" * 90)\n",
    "        print(f\"{'Pos':<5}{'Driver':<20}{'Team':<25}{'Predicted Q3':<15}\")\n",
    "        print(\"-\" * 90)\n",
    "        \n",
    "        for i, row in enumerate(predictions_df.itertuples(), 1):\n",
    "            predicted_q3_time = convert_seconds_to_minutes(row.Predicted_Q3)\n",
    "            print(f\"{i:<5}{row.Driver:<20}{row.Team:<25}{predicted_q3_time}\")\n"
   ]
  },
  {
   "cell_type": "markdown",
   "id": "6213202d-c134-4911-87f2-26d04b3f81e5",
   "metadata": {},
   "source": [
    "## Prepare Model, Train, and Predict"
   ]
  },
  {
   "cell_type": "code",
   "execution_count": null,
   "id": "1c11446c-0a73-4649-9746-e562248e1c19",
   "metadata": {},
   "outputs": [],
   "source": [
    "# Main block - Prepare Model, Train, and Make Predictions\n",
    "base_times_2024 = get_best_q3_times_2024()\n",
    "\n",
    "if not base_times_2024.empty:\n",
    "    all_data = fetch_all_2025_data()\n",
    "\n",
    "    if not all_data.empty:\n",
    "        # Preprocess data\n",
    "        valid_data = all_data.dropna(subset=['Q1_sec', 'Q2_sec', 'Q3_sec'], how='any')\n",
    "        X = valid_data[['Q1_sec', 'Q2_sec']]\n",
    "        y = valid_data['Q3_sec']\n",
    "\n",
    "        # Handle missing values with SimpleImputer\n",
    "        imputer = SimpleImputer(strategy='median')\n",
    "        X_clean = pd.DataFrame(imputer.fit_transform(X), columns=X.columns)\n",
    "        y_clean = pd.Series(imputer.fit_transform(y.values.reshape(-1, 1)).ravel())\n",
    "\n",
    "        # Train the model\n",
    "        model = LinearRegression()\n",
    "        model.fit(X_clean, y_clean)\n",
    "\n",
    "        # Predict the target values\n",
    "        y_pred = model.predict(X_clean)\n",
    "\n",
    "        # Calculate model performance\n",
    "        mae = mean_absolute_error(y_clean, y_pred)\n",
    "        r2 = r2_score(y_clean, y_pred)\n",
    "\n",
    "        # Store model and other results for later use\n",
    "        results = {\n",
    "            \"model\": model,\n",
    "            \"mae\": mae,\n",
    "            \"r2\": r2,\n",
    "            \"base_times_2024\": base_times_2024\n",
    "        }\n",
    "    else:\n",
    "        print(\"No qualifying data found for 2025.\")\n",
    "else:\n",
    "    print(\"Could not fetch best Q3 times for 2024.\")"
   ]
  },
  {
   "cell_type": "markdown",
   "id": "57ab26d1-7cb8-47f8-bf67-ee59341b6535",
   "metadata": {},
   "source": [
    "## Print Results"
   ]
  },
  {
   "cell_type": "code",
   "execution_count": null,
   "id": "e34b78b4-c2ab-4b12-b58f-7843a1a2e6aa",
   "metadata": {},
   "outputs": [],
   "source": [
    "# Main block - Print Model Performance and Predictions\n",
    "if 'results' in locals():\n",
    "    print(\"\\nModel Performance:\")\n",
    "    print(f\"MAE: {results['mae']:.2f} seconds\")\n",
    "    print(f\"R² Score: {results['r2']:.2f}\")\n",
    "\n",
    "    # Print predictions for all rounds\n",
    "    predict_all_rounds(results['model'], results['base_times_2024'])\n",
    "else:\n",
    "    print(\"Model was not trained due to missing data.\")\n"
   ]
  }
 ],
 "metadata": {
  "kernelspec": {
   "display_name": "Python 3 (ipykernel)",
   "language": "python",
   "name": "python3"
  },
  "language_info": {
   "codemirror_mode": {
    "name": "ipython",
    "version": 3
   },
   "file_extension": ".py",
   "mimetype": "text/x-python",
   "name": "python",
   "nbconvert_exporter": "python",
   "pygments_lexer": "ipython3",
   "version": "3.12.7"
  }
 },
 "nbformat": 4,
 "nbformat_minor": 5
}
